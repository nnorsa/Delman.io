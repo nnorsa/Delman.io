{
 "cells": [
  {
   "cell_type": "code",
   "execution_count": 112,
   "id": "e396fab9",
   "metadata": {},
   "outputs": [],
   "source": [
    "from prophet import Prophet"
   ]
  },
  {
   "cell_type": "code",
   "execution_count": 113,
   "id": "205f15ef",
   "metadata": {},
   "outputs": [],
   "source": [
    "import pandas as pd\n",
    "import numpy as np\n",
    "import matplotlib.pyplot as plt\n",
    "import seaborn as sns\n",
    "from sklearn.model_selection import train_test_split\n",
    "from sklearn.metrics import mean_squared_error\n",
    "from sklearn.linear_model import LinearRegression\n",
    "from sklearn.metrics import mean_squared_error\n",
    "from sklearn.metrics import mean_absolute_error"
   ]
  },
  {
   "cell_type": "code",
   "execution_count": 114,
   "id": "08a8778f",
   "metadata": {},
   "outputs": [
    {
     "data": {
      "text/html": [
       "<div>\n",
       "<style scoped>\n",
       "    .dataframe tbody tr th:only-of-type {\n",
       "        vertical-align: middle;\n",
       "    }\n",
       "\n",
       "    .dataframe tbody tr th {\n",
       "        vertical-align: top;\n",
       "    }\n",
       "\n",
       "    .dataframe thead th {\n",
       "        text-align: right;\n",
       "    }\n",
       "</style>\n",
       "<table border=\"1\" class=\"dataframe\">\n",
       "  <thead>\n",
       "    <tr style=\"text-align: right;\">\n",
       "      <th></th>\n",
       "      <th>Date</th>\n",
       "      <th>Product Name</th>\n",
       "      <th>Sales Qty</th>\n",
       "    </tr>\n",
       "  </thead>\n",
       "  <tbody>\n",
       "    <tr>\n",
       "      <th>0</th>\n",
       "      <td>2023-01-01 00:37:00</td>\n",
       "      <td>200 Choco</td>\n",
       "      <td>44</td>\n",
       "    </tr>\n",
       "    <tr>\n",
       "      <th>1</th>\n",
       "      <td>2023-01-01 01:06:00</td>\n",
       "      <td>500 Choco</td>\n",
       "      <td>44</td>\n",
       "    </tr>\n",
       "    <tr>\n",
       "      <th>2</th>\n",
       "      <td>2023-01-01 02:00:00</td>\n",
       "      <td>200 Vanilla</td>\n",
       "      <td>43</td>\n",
       "    </tr>\n",
       "    <tr>\n",
       "      <th>3</th>\n",
       "      <td>2023-01-01 04:12:00</td>\n",
       "      <td>200 Choco</td>\n",
       "      <td>46</td>\n",
       "    </tr>\n",
       "    <tr>\n",
       "      <th>4</th>\n",
       "      <td>2023-01-01 05:02:00</td>\n",
       "      <td>500 Choco</td>\n",
       "      <td>38</td>\n",
       "    </tr>\n",
       "    <tr>\n",
       "      <th>...</th>\n",
       "      <td>...</td>\n",
       "      <td>...</td>\n",
       "      <td>...</td>\n",
       "    </tr>\n",
       "    <tr>\n",
       "      <th>7302</th>\n",
       "      <td>2023-12-31 20:06:00</td>\n",
       "      <td>200 Choco</td>\n",
       "      <td>7999</td>\n",
       "    </tr>\n",
       "    <tr>\n",
       "      <th>7303</th>\n",
       "      <td>2023-12-31 20:36:00</td>\n",
       "      <td>200 Vanilla</td>\n",
       "      <td>15999</td>\n",
       "    </tr>\n",
       "    <tr>\n",
       "      <th>7304</th>\n",
       "      <td>2023-12-31 22:39:00</td>\n",
       "      <td>500 Choco</td>\n",
       "      <td>7999</td>\n",
       "    </tr>\n",
       "    <tr>\n",
       "      <th>7305</th>\n",
       "      <td>2023-12-31 23:15:00</td>\n",
       "      <td>500 Vanilla</td>\n",
       "      <td>7999</td>\n",
       "    </tr>\n",
       "    <tr>\n",
       "      <th>7306</th>\n",
       "      <td>2023-12-31 23:52:00</td>\n",
       "      <td>200 Vanilla</td>\n",
       "      <td>15999</td>\n",
       "    </tr>\n",
       "  </tbody>\n",
       "</table>\n",
       "<p>7307 rows × 3 columns</p>\n",
       "</div>"
      ],
      "text/plain": [
       "                    Date Product Name  Sales Qty\n",
       "0    2023-01-01 00:37:00    200 Choco         44\n",
       "1    2023-01-01 01:06:00    500 Choco         44\n",
       "2    2023-01-01 02:00:00  200 Vanilla         43\n",
       "3    2023-01-01 04:12:00    200 Choco         46\n",
       "4    2023-01-01 05:02:00    500 Choco         38\n",
       "...                  ...          ...        ...\n",
       "7302 2023-12-31 20:06:00    200 Choco       7999\n",
       "7303 2023-12-31 20:36:00  200 Vanilla      15999\n",
       "7304 2023-12-31 22:39:00    500 Choco       7999\n",
       "7305 2023-12-31 23:15:00  500 Vanilla       7999\n",
       "7306 2023-12-31 23:52:00  200 Vanilla      15999\n",
       "\n",
       "[7307 rows x 3 columns]"
      ]
     },
     "execution_count": 114,
     "metadata": {},
     "output_type": "execute_result"
    }
   ],
   "source": [
    "data = pd.read_excel('E:/Pekerjaan/New Folder/data2023.xlsx')\n",
    "data"
   ]
  },
  {
   "cell_type": "code",
   "execution_count": 115,
   "id": "3df27dc6",
   "metadata": {},
   "outputs": [
    {
     "name": "stdout",
     "output_type": "stream",
     "text": [
      "<class 'pandas.core.frame.DataFrame'>\n",
      "RangeIndex: 7307 entries, 0 to 7306\n",
      "Data columns (total 3 columns):\n",
      " #   Column        Non-Null Count  Dtype         \n",
      "---  ------        --------------  -----         \n",
      " 0   Date          7307 non-null   datetime64[ns]\n",
      " 1   Product Name  7307 non-null   object        \n",
      " 2   Sales Qty     7307 non-null   int64         \n",
      "dtypes: datetime64[ns](1), int64(1), object(1)\n",
      "memory usage: 171.4+ KB\n"
     ]
    }
   ],
   "source": [
    "data.info()"
   ]
  },
  {
   "cell_type": "code",
   "execution_count": 116,
   "id": "81f849a0",
   "metadata": {},
   "outputs": [
    {
     "data": {
      "text/plain": [
       "Date            0\n",
       "Product Name    0\n",
       "Sales Qty       0\n",
       "dtype: int64"
      ]
     },
     "execution_count": 116,
     "metadata": {},
     "output_type": "execute_result"
    }
   ],
   "source": [
    "data.isna().sum()"
   ]
  },
  {
   "cell_type": "code",
   "execution_count": 117,
   "id": "5ea65dcb",
   "metadata": {},
   "outputs": [
    {
     "data": {
      "text/html": [
       "<div>\n",
       "<style scoped>\n",
       "    .dataframe tbody tr th:only-of-type {\n",
       "        vertical-align: middle;\n",
       "    }\n",
       "\n",
       "    .dataframe tbody tr th {\n",
       "        vertical-align: top;\n",
       "    }\n",
       "\n",
       "    .dataframe thead th {\n",
       "        text-align: right;\n",
       "    }\n",
       "</style>\n",
       "<table border=\"1\" class=\"dataframe\">\n",
       "  <thead>\n",
       "    <tr style=\"text-align: right;\">\n",
       "      <th></th>\n",
       "      <th>Nama SKU</th>\n",
       "      <th>Tanggal</th>\n",
       "      <th>Penjualan</th>\n",
       "    </tr>\n",
       "  </thead>\n",
       "  <tbody>\n",
       "    <tr>\n",
       "      <th>0</th>\n",
       "      <td>Vanilla 200 ML</td>\n",
       "      <td>2024-01-01</td>\n",
       "      <td>422</td>\n",
       "    </tr>\n",
       "    <tr>\n",
       "      <th>1</th>\n",
       "      <td>Choco 200 ML</td>\n",
       "      <td>2024-01-01</td>\n",
       "      <td>118</td>\n",
       "    </tr>\n",
       "    <tr>\n",
       "      <th>2</th>\n",
       "      <td>Choco 500 ML</td>\n",
       "      <td>2024-01-01</td>\n",
       "      <td>79</td>\n",
       "    </tr>\n",
       "    <tr>\n",
       "      <th>3</th>\n",
       "      <td>Almond 200 ML</td>\n",
       "      <td>2024-01-01</td>\n",
       "      <td>205</td>\n",
       "    </tr>\n",
       "    <tr>\n",
       "      <th>4</th>\n",
       "      <td>Vanilla 500 ML</td>\n",
       "      <td>2024-01-01</td>\n",
       "      <td>77</td>\n",
       "    </tr>\n",
       "    <tr>\n",
       "      <th>...</th>\n",
       "      <td>...</td>\n",
       "      <td>...</td>\n",
       "      <td>...</td>\n",
       "    </tr>\n",
       "    <tr>\n",
       "      <th>1520</th>\n",
       "      <td>Almond 200 ML</td>\n",
       "      <td>2024-10-31</td>\n",
       "      <td>92</td>\n",
       "    </tr>\n",
       "    <tr>\n",
       "      <th>1521</th>\n",
       "      <td>Choco 200 ML</td>\n",
       "      <td>2024-10-31</td>\n",
       "      <td>107</td>\n",
       "    </tr>\n",
       "    <tr>\n",
       "      <th>1522</th>\n",
       "      <td>Vanilla 200 ML</td>\n",
       "      <td>2024-10-31</td>\n",
       "      <td>277</td>\n",
       "    </tr>\n",
       "    <tr>\n",
       "      <th>1523</th>\n",
       "      <td>Choco 500 ML</td>\n",
       "      <td>2024-10-31</td>\n",
       "      <td>44</td>\n",
       "    </tr>\n",
       "    <tr>\n",
       "      <th>1524</th>\n",
       "      <td>Vanilla 500 ML</td>\n",
       "      <td>2024-10-31</td>\n",
       "      <td>41</td>\n",
       "    </tr>\n",
       "  </tbody>\n",
       "</table>\n",
       "<p>1525 rows × 3 columns</p>\n",
       "</div>"
      ],
      "text/plain": [
       "            Nama SKU    Tanggal  Penjualan\n",
       "0     Vanilla 200 ML 2024-01-01        422\n",
       "1       Choco 200 ML 2024-01-01        118\n",
       "2       Choco 500 ML 2024-01-01         79\n",
       "3      Almond 200 ML 2024-01-01        205\n",
       "4     Vanilla 500 ML 2024-01-01         77\n",
       "...              ...        ...        ...\n",
       "1520   Almond 200 ML 2024-10-31         92\n",
       "1521    Choco 200 ML 2024-10-31        107\n",
       "1522  Vanilla 200 ML 2024-10-31        277\n",
       "1523    Choco 500 ML 2024-10-31         44\n",
       "1524  Vanilla 500 ML 2024-10-31         41\n",
       "\n",
       "[1525 rows x 3 columns]"
      ]
     },
     "execution_count": 117,
     "metadata": {},
     "output_type": "execute_result"
    }
   ],
   "source": [
    "data1 = pd.read_excel('E:/Pekerjaan/New Folder/laporan2024.xlsx')\n",
    "data1"
   ]
  },
  {
   "cell_type": "code",
   "execution_count": 118,
   "id": "58ed873c",
   "metadata": {},
   "outputs": [
    {
     "name": "stdout",
     "output_type": "stream",
     "text": [
      "<class 'pandas.core.frame.DataFrame'>\n",
      "RangeIndex: 1525 entries, 0 to 1524\n",
      "Data columns (total 3 columns):\n",
      " #   Column     Non-Null Count  Dtype         \n",
      "---  ------     --------------  -----         \n",
      " 0   Nama SKU   1525 non-null   object        \n",
      " 1   Tanggal    1525 non-null   datetime64[ns]\n",
      " 2   Penjualan  1525 non-null   int64         \n",
      "dtypes: datetime64[ns](1), int64(1), object(1)\n",
      "memory usage: 35.9+ KB\n"
     ]
    }
   ],
   "source": [
    "data1.info()"
   ]
  },
  {
   "cell_type": "code",
   "execution_count": 119,
   "id": "0655866e",
   "metadata": {},
   "outputs": [
    {
     "data": {
      "text/plain": [
       "Nama SKU     0\n",
       "Tanggal      0\n",
       "Penjualan    0\n",
       "dtype: int64"
      ]
     },
     "execution_count": 119,
     "metadata": {},
     "output_type": "execute_result"
    }
   ],
   "source": [
    "data1.isna().sum()"
   ]
  },
  {
   "cell_type": "markdown",
   "id": "27f5614d",
   "metadata": {},
   "source": [
    "# **Data Preparation/Pre-processing**"
   ]
  },
  {
   "cell_type": "code",
   "execution_count": 120,
   "id": "5a671c3e",
   "metadata": {},
   "outputs": [
    {
     "data": {
      "text/html": [
       "<div>\n",
       "<style scoped>\n",
       "    .dataframe tbody tr th:only-of-type {\n",
       "        vertical-align: middle;\n",
       "    }\n",
       "\n",
       "    .dataframe tbody tr th {\n",
       "        vertical-align: top;\n",
       "    }\n",
       "\n",
       "    .dataframe thead th {\n",
       "        text-align: right;\n",
       "    }\n",
       "</style>\n",
       "<table border=\"1\" class=\"dataframe\">\n",
       "  <thead>\n",
       "    <tr style=\"text-align: right;\">\n",
       "      <th></th>\n",
       "      <th>Product Name</th>\n",
       "      <th>Date</th>\n",
       "      <th>Sales Qty</th>\n",
       "    </tr>\n",
       "  </thead>\n",
       "  <tbody>\n",
       "    <tr>\n",
       "      <th>0</th>\n",
       "      <td>Vanilla 200 ML</td>\n",
       "      <td>2024-01-01</td>\n",
       "      <td>422</td>\n",
       "    </tr>\n",
       "    <tr>\n",
       "      <th>1</th>\n",
       "      <td>Choco 200 ML</td>\n",
       "      <td>2024-01-01</td>\n",
       "      <td>118</td>\n",
       "    </tr>\n",
       "    <tr>\n",
       "      <th>2</th>\n",
       "      <td>Choco 500 ML</td>\n",
       "      <td>2024-01-01</td>\n",
       "      <td>79</td>\n",
       "    </tr>\n",
       "    <tr>\n",
       "      <th>3</th>\n",
       "      <td>Almond 200 ML</td>\n",
       "      <td>2024-01-01</td>\n",
       "      <td>205</td>\n",
       "    </tr>\n",
       "    <tr>\n",
       "      <th>4</th>\n",
       "      <td>Vanilla 500 ML</td>\n",
       "      <td>2024-01-01</td>\n",
       "      <td>77</td>\n",
       "    </tr>\n",
       "    <tr>\n",
       "      <th>...</th>\n",
       "      <td>...</td>\n",
       "      <td>...</td>\n",
       "      <td>...</td>\n",
       "    </tr>\n",
       "    <tr>\n",
       "      <th>1520</th>\n",
       "      <td>Almond 200 ML</td>\n",
       "      <td>2024-10-31</td>\n",
       "      <td>92</td>\n",
       "    </tr>\n",
       "    <tr>\n",
       "      <th>1521</th>\n",
       "      <td>Choco 200 ML</td>\n",
       "      <td>2024-10-31</td>\n",
       "      <td>107</td>\n",
       "    </tr>\n",
       "    <tr>\n",
       "      <th>1522</th>\n",
       "      <td>Vanilla 200 ML</td>\n",
       "      <td>2024-10-31</td>\n",
       "      <td>277</td>\n",
       "    </tr>\n",
       "    <tr>\n",
       "      <th>1523</th>\n",
       "      <td>Choco 500 ML</td>\n",
       "      <td>2024-10-31</td>\n",
       "      <td>44</td>\n",
       "    </tr>\n",
       "    <tr>\n",
       "      <th>1524</th>\n",
       "      <td>Vanilla 500 ML</td>\n",
       "      <td>2024-10-31</td>\n",
       "      <td>41</td>\n",
       "    </tr>\n",
       "  </tbody>\n",
       "</table>\n",
       "<p>1525 rows × 3 columns</p>\n",
       "</div>"
      ],
      "text/plain": [
       "        Product Name       Date  Sales Qty\n",
       "0     Vanilla 200 ML 2024-01-01        422\n",
       "1       Choco 200 ML 2024-01-01        118\n",
       "2       Choco 500 ML 2024-01-01         79\n",
       "3      Almond 200 ML 2024-01-01        205\n",
       "4     Vanilla 500 ML 2024-01-01         77\n",
       "...              ...        ...        ...\n",
       "1520   Almond 200 ML 2024-10-31         92\n",
       "1521    Choco 200 ML 2024-10-31        107\n",
       "1522  Vanilla 200 ML 2024-10-31        277\n",
       "1523    Choco 500 ML 2024-10-31         44\n",
       "1524  Vanilla 500 ML 2024-10-31         41\n",
       "\n",
       "[1525 rows x 3 columns]"
      ]
     },
     "execution_count": 120,
     "metadata": {},
     "output_type": "execute_result"
    }
   ],
   "source": [
    "#ubah nama kolom\n",
    "data1.columns = ['Product Name', 'Date', 'Sales Qty']\n",
    "data1"
   ]
  },
  {
   "cell_type": "code",
   "execution_count": 121,
   "id": "031e4abd",
   "metadata": {},
   "outputs": [
    {
     "data": {
      "text/html": [
       "<div>\n",
       "<style scoped>\n",
       "    .dataframe tbody tr th:only-of-type {\n",
       "        vertical-align: middle;\n",
       "    }\n",
       "\n",
       "    .dataframe tbody tr th {\n",
       "        vertical-align: top;\n",
       "    }\n",
       "\n",
       "    .dataframe thead th {\n",
       "        text-align: right;\n",
       "    }\n",
       "</style>\n",
       "<table border=\"1\" class=\"dataframe\">\n",
       "  <thead>\n",
       "    <tr style=\"text-align: right;\">\n",
       "      <th></th>\n",
       "      <th>Date</th>\n",
       "      <th>Product Name</th>\n",
       "      <th>Sales Qty</th>\n",
       "    </tr>\n",
       "  </thead>\n",
       "  <tbody>\n",
       "    <tr>\n",
       "      <th>0</th>\n",
       "      <td>2024-01-01</td>\n",
       "      <td>Vanilla 200 ML</td>\n",
       "      <td>422</td>\n",
       "    </tr>\n",
       "    <tr>\n",
       "      <th>1</th>\n",
       "      <td>2024-01-01</td>\n",
       "      <td>Choco 200 ML</td>\n",
       "      <td>118</td>\n",
       "    </tr>\n",
       "    <tr>\n",
       "      <th>2</th>\n",
       "      <td>2024-01-01</td>\n",
       "      <td>Choco 500 ML</td>\n",
       "      <td>79</td>\n",
       "    </tr>\n",
       "    <tr>\n",
       "      <th>3</th>\n",
       "      <td>2024-01-01</td>\n",
       "      <td>Almond 200 ML</td>\n",
       "      <td>205</td>\n",
       "    </tr>\n",
       "    <tr>\n",
       "      <th>4</th>\n",
       "      <td>2024-01-01</td>\n",
       "      <td>Vanilla 500 ML</td>\n",
       "      <td>77</td>\n",
       "    </tr>\n",
       "    <tr>\n",
       "      <th>...</th>\n",
       "      <td>...</td>\n",
       "      <td>...</td>\n",
       "      <td>...</td>\n",
       "    </tr>\n",
       "    <tr>\n",
       "      <th>1520</th>\n",
       "      <td>2024-10-31</td>\n",
       "      <td>Almond 200 ML</td>\n",
       "      <td>92</td>\n",
       "    </tr>\n",
       "    <tr>\n",
       "      <th>1521</th>\n",
       "      <td>2024-10-31</td>\n",
       "      <td>Choco 200 ML</td>\n",
       "      <td>107</td>\n",
       "    </tr>\n",
       "    <tr>\n",
       "      <th>1522</th>\n",
       "      <td>2024-10-31</td>\n",
       "      <td>Vanilla 200 ML</td>\n",
       "      <td>277</td>\n",
       "    </tr>\n",
       "    <tr>\n",
       "      <th>1523</th>\n",
       "      <td>2024-10-31</td>\n",
       "      <td>Choco 500 ML</td>\n",
       "      <td>44</td>\n",
       "    </tr>\n",
       "    <tr>\n",
       "      <th>1524</th>\n",
       "      <td>2024-10-31</td>\n",
       "      <td>Vanilla 500 ML</td>\n",
       "      <td>41</td>\n",
       "    </tr>\n",
       "  </tbody>\n",
       "</table>\n",
       "<p>1525 rows × 3 columns</p>\n",
       "</div>"
      ],
      "text/plain": [
       "           Date    Product Name  Sales Qty\n",
       "0    2024-01-01  Vanilla 200 ML        422\n",
       "1    2024-01-01    Choco 200 ML        118\n",
       "2    2024-01-01    Choco 500 ML         79\n",
       "3    2024-01-01   Almond 200 ML        205\n",
       "4    2024-01-01  Vanilla 500 ML         77\n",
       "...         ...             ...        ...\n",
       "1520 2024-10-31   Almond 200 ML         92\n",
       "1521 2024-10-31    Choco 200 ML        107\n",
       "1522 2024-10-31  Vanilla 200 ML        277\n",
       "1523 2024-10-31    Choco 500 ML         44\n",
       "1524 2024-10-31  Vanilla 500 ML         41\n",
       "\n",
       "[1525 rows x 3 columns]"
      ]
     },
     "execution_count": 121,
     "metadata": {},
     "output_type": "execute_result"
    }
   ],
   "source": [
    "#menggeser kolom\n",
    "data1 = data1.reindex(['Date', 'Product Name', 'Sales Qty'], axis=1)\n",
    "data1"
   ]
  },
  {
   "cell_type": "code",
   "execution_count": 122,
   "id": "6e8f104c",
   "metadata": {},
   "outputs": [
    {
     "data": {
      "text/html": [
       "<div>\n",
       "<style scoped>\n",
       "    .dataframe tbody tr th:only-of-type {\n",
       "        vertical-align: middle;\n",
       "    }\n",
       "\n",
       "    .dataframe tbody tr th {\n",
       "        vertical-align: top;\n",
       "    }\n",
       "\n",
       "    .dataframe thead th {\n",
       "        text-align: right;\n",
       "    }\n",
       "</style>\n",
       "<table border=\"1\" class=\"dataframe\">\n",
       "  <thead>\n",
       "    <tr style=\"text-align: right;\">\n",
       "      <th></th>\n",
       "      <th>Date</th>\n",
       "      <th>Product Name</th>\n",
       "      <th>Sales Qty</th>\n",
       "    </tr>\n",
       "  </thead>\n",
       "  <tbody>\n",
       "    <tr>\n",
       "      <th>0</th>\n",
       "      <td>2024-01-01</td>\n",
       "      <td>Vanilla 200</td>\n",
       "      <td>422</td>\n",
       "    </tr>\n",
       "    <tr>\n",
       "      <th>1</th>\n",
       "      <td>2024-01-01</td>\n",
       "      <td>Choco 200</td>\n",
       "      <td>118</td>\n",
       "    </tr>\n",
       "    <tr>\n",
       "      <th>2</th>\n",
       "      <td>2024-01-01</td>\n",
       "      <td>Choco 500</td>\n",
       "      <td>79</td>\n",
       "    </tr>\n",
       "    <tr>\n",
       "      <th>3</th>\n",
       "      <td>2024-01-01</td>\n",
       "      <td>Almond 200</td>\n",
       "      <td>205</td>\n",
       "    </tr>\n",
       "    <tr>\n",
       "      <th>4</th>\n",
       "      <td>2024-01-01</td>\n",
       "      <td>Vanilla 500</td>\n",
       "      <td>77</td>\n",
       "    </tr>\n",
       "    <tr>\n",
       "      <th>...</th>\n",
       "      <td>...</td>\n",
       "      <td>...</td>\n",
       "      <td>...</td>\n",
       "    </tr>\n",
       "    <tr>\n",
       "      <th>1520</th>\n",
       "      <td>2024-10-31</td>\n",
       "      <td>Almond 200</td>\n",
       "      <td>92</td>\n",
       "    </tr>\n",
       "    <tr>\n",
       "      <th>1521</th>\n",
       "      <td>2024-10-31</td>\n",
       "      <td>Choco 200</td>\n",
       "      <td>107</td>\n",
       "    </tr>\n",
       "    <tr>\n",
       "      <th>1522</th>\n",
       "      <td>2024-10-31</td>\n",
       "      <td>Vanilla 200</td>\n",
       "      <td>277</td>\n",
       "    </tr>\n",
       "    <tr>\n",
       "      <th>1523</th>\n",
       "      <td>2024-10-31</td>\n",
       "      <td>Choco 500</td>\n",
       "      <td>44</td>\n",
       "    </tr>\n",
       "    <tr>\n",
       "      <th>1524</th>\n",
       "      <td>2024-10-31</td>\n",
       "      <td>Vanilla 500</td>\n",
       "      <td>41</td>\n",
       "    </tr>\n",
       "  </tbody>\n",
       "</table>\n",
       "<p>1525 rows × 3 columns</p>\n",
       "</div>"
      ],
      "text/plain": [
       "           Date  Product Name  Sales Qty\n",
       "0    2024-01-01  Vanilla 200         422\n",
       "1    2024-01-01    Choco 200         118\n",
       "2    2024-01-01    Choco 500          79\n",
       "3    2024-01-01   Almond 200         205\n",
       "4    2024-01-01  Vanilla 500          77\n",
       "...         ...           ...        ...\n",
       "1520 2024-10-31   Almond 200          92\n",
       "1521 2024-10-31    Choco 200         107\n",
       "1522 2024-10-31  Vanilla 200         277\n",
       "1523 2024-10-31    Choco 500          44\n",
       "1524 2024-10-31  Vanilla 500          41\n",
       "\n",
       "[1525 rows x 3 columns]"
      ]
     },
     "execution_count": 122,
     "metadata": {},
     "output_type": "execute_result"
    }
   ],
   "source": [
    "#hapus \"ML\" pada kolom product name\n",
    "data1['Product Name'] = data1['Product Name'].str.replace('ML', '')\n",
    "data1"
   ]
  },
  {
   "cell_type": "code",
   "execution_count": 123,
   "id": "fdd98050",
   "metadata": {},
   "outputs": [
    {
     "data": {
      "text/html": [
       "<div>\n",
       "<style scoped>\n",
       "    .dataframe tbody tr th:only-of-type {\n",
       "        vertical-align: middle;\n",
       "    }\n",
       "\n",
       "    .dataframe tbody tr th {\n",
       "        vertical-align: top;\n",
       "    }\n",
       "\n",
       "    .dataframe thead th {\n",
       "        text-align: right;\n",
       "    }\n",
       "</style>\n",
       "<table border=\"1\" class=\"dataframe\">\n",
       "  <thead>\n",
       "    <tr style=\"text-align: right;\">\n",
       "      <th></th>\n",
       "      <th>Date</th>\n",
       "      <th>Product Name</th>\n",
       "      <th>Sales Qty</th>\n",
       "    </tr>\n",
       "  </thead>\n",
       "  <tbody>\n",
       "    <tr>\n",
       "      <th>0</th>\n",
       "      <td>2024-01-01</td>\n",
       "      <td>200 Vanilla</td>\n",
       "      <td>422</td>\n",
       "    </tr>\n",
       "    <tr>\n",
       "      <th>1</th>\n",
       "      <td>2024-01-01</td>\n",
       "      <td>200 Choco</td>\n",
       "      <td>118</td>\n",
       "    </tr>\n",
       "    <tr>\n",
       "      <th>2</th>\n",
       "      <td>2024-01-01</td>\n",
       "      <td>500 Choco</td>\n",
       "      <td>79</td>\n",
       "    </tr>\n",
       "    <tr>\n",
       "      <th>3</th>\n",
       "      <td>2024-01-01</td>\n",
       "      <td>200 Almond</td>\n",
       "      <td>205</td>\n",
       "    </tr>\n",
       "    <tr>\n",
       "      <th>4</th>\n",
       "      <td>2024-01-01</td>\n",
       "      <td>500 Vanilla</td>\n",
       "      <td>77</td>\n",
       "    </tr>\n",
       "    <tr>\n",
       "      <th>...</th>\n",
       "      <td>...</td>\n",
       "      <td>...</td>\n",
       "      <td>...</td>\n",
       "    </tr>\n",
       "    <tr>\n",
       "      <th>1520</th>\n",
       "      <td>2024-10-31</td>\n",
       "      <td>200 Almond</td>\n",
       "      <td>92</td>\n",
       "    </tr>\n",
       "    <tr>\n",
       "      <th>1521</th>\n",
       "      <td>2024-10-31</td>\n",
       "      <td>200 Choco</td>\n",
       "      <td>107</td>\n",
       "    </tr>\n",
       "    <tr>\n",
       "      <th>1522</th>\n",
       "      <td>2024-10-31</td>\n",
       "      <td>200 Vanilla</td>\n",
       "      <td>277</td>\n",
       "    </tr>\n",
       "    <tr>\n",
       "      <th>1523</th>\n",
       "      <td>2024-10-31</td>\n",
       "      <td>500 Choco</td>\n",
       "      <td>44</td>\n",
       "    </tr>\n",
       "    <tr>\n",
       "      <th>1524</th>\n",
       "      <td>2024-10-31</td>\n",
       "      <td>500 Vanilla</td>\n",
       "      <td>41</td>\n",
       "    </tr>\n",
       "  </tbody>\n",
       "</table>\n",
       "<p>1525 rows × 3 columns</p>\n",
       "</div>"
      ],
      "text/plain": [
       "           Date  Product Name  Sales Qty\n",
       "0    2024-01-01   200 Vanilla        422\n",
       "1    2024-01-01     200 Choco        118\n",
       "2    2024-01-01     500 Choco         79\n",
       "3    2024-01-01    200 Almond        205\n",
       "4    2024-01-01   500 Vanilla         77\n",
       "...         ...           ...        ...\n",
       "1520 2024-10-31    200 Almond         92\n",
       "1521 2024-10-31     200 Choco        107\n",
       "1522 2024-10-31   200 Vanilla        277\n",
       "1523 2024-10-31     500 Choco         44\n",
       "1524 2024-10-31   500 Vanilla         41\n",
       "\n",
       "[1525 rows x 3 columns]"
      ]
     },
     "execution_count": 123,
     "metadata": {},
     "output_type": "execute_result"
    }
   ],
   "source": [
    "#memindahkan angka yg dibelakang menjadi di depan\n",
    "data1['Product Name'] = data1['Product Name'].apply(lambda x: \" \".join(x.split(\" \")[::-1]))\n",
    "data1"
   ]
  },
  {
   "cell_type": "code",
   "execution_count": 124,
   "id": "9c44fce5",
   "metadata": {},
   "outputs": [],
   "source": [
    "#menghapus apabila terdapat spasi\n",
    "data1['Product Name'] = data1['Product Name'].str.strip()"
   ]
  },
  {
   "cell_type": "code",
   "execution_count": 125,
   "id": "f8686208",
   "metadata": {},
   "outputs": [
    {
     "data": {
      "text/html": [
       "<div>\n",
       "<style scoped>\n",
       "    .dataframe tbody tr th:only-of-type {\n",
       "        vertical-align: middle;\n",
       "    }\n",
       "\n",
       "    .dataframe tbody tr th {\n",
       "        vertical-align: top;\n",
       "    }\n",
       "\n",
       "    .dataframe thead th {\n",
       "        text-align: right;\n",
       "    }\n",
       "</style>\n",
       "<table border=\"1\" class=\"dataframe\">\n",
       "  <thead>\n",
       "    <tr style=\"text-align: right;\">\n",
       "      <th></th>\n",
       "      <th>Date</th>\n",
       "      <th>Product Name</th>\n",
       "      <th>Sales Qty</th>\n",
       "    </tr>\n",
       "  </thead>\n",
       "  <tbody>\n",
       "    <tr>\n",
       "      <th>0</th>\n",
       "      <td>2023-01-01 00:37:00</td>\n",
       "      <td>200 Choco</td>\n",
       "      <td>44</td>\n",
       "    </tr>\n",
       "    <tr>\n",
       "      <th>1</th>\n",
       "      <td>2023-01-01 01:06:00</td>\n",
       "      <td>500 Choco</td>\n",
       "      <td>44</td>\n",
       "    </tr>\n",
       "    <tr>\n",
       "      <th>2</th>\n",
       "      <td>2023-01-01 02:00:00</td>\n",
       "      <td>200 Vanilla</td>\n",
       "      <td>43</td>\n",
       "    </tr>\n",
       "    <tr>\n",
       "      <th>3</th>\n",
       "      <td>2023-01-01 04:12:00</td>\n",
       "      <td>200 Choco</td>\n",
       "      <td>46</td>\n",
       "    </tr>\n",
       "    <tr>\n",
       "      <th>4</th>\n",
       "      <td>2023-01-01 05:02:00</td>\n",
       "      <td>500 Choco</td>\n",
       "      <td>38</td>\n",
       "    </tr>\n",
       "    <tr>\n",
       "      <th>...</th>\n",
       "      <td>...</td>\n",
       "      <td>...</td>\n",
       "      <td>...</td>\n",
       "    </tr>\n",
       "    <tr>\n",
       "      <th>8827</th>\n",
       "      <td>2024-10-31 00:00:00</td>\n",
       "      <td>200 Almond</td>\n",
       "      <td>92</td>\n",
       "    </tr>\n",
       "    <tr>\n",
       "      <th>8828</th>\n",
       "      <td>2024-10-31 00:00:00</td>\n",
       "      <td>200 Choco</td>\n",
       "      <td>107</td>\n",
       "    </tr>\n",
       "    <tr>\n",
       "      <th>8829</th>\n",
       "      <td>2024-10-31 00:00:00</td>\n",
       "      <td>200 Vanilla</td>\n",
       "      <td>277</td>\n",
       "    </tr>\n",
       "    <tr>\n",
       "      <th>8830</th>\n",
       "      <td>2024-10-31 00:00:00</td>\n",
       "      <td>500 Choco</td>\n",
       "      <td>44</td>\n",
       "    </tr>\n",
       "    <tr>\n",
       "      <th>8831</th>\n",
       "      <td>2024-10-31 00:00:00</td>\n",
       "      <td>500 Vanilla</td>\n",
       "      <td>41</td>\n",
       "    </tr>\n",
       "  </tbody>\n",
       "</table>\n",
       "<p>8832 rows × 3 columns</p>\n",
       "</div>"
      ],
      "text/plain": [
       "                    Date Product Name  Sales Qty\n",
       "0    2023-01-01 00:37:00    200 Choco         44\n",
       "1    2023-01-01 01:06:00    500 Choco         44\n",
       "2    2023-01-01 02:00:00  200 Vanilla         43\n",
       "3    2023-01-01 04:12:00    200 Choco         46\n",
       "4    2023-01-01 05:02:00    500 Choco         38\n",
       "...                  ...          ...        ...\n",
       "8827 2024-10-31 00:00:00   200 Almond         92\n",
       "8828 2024-10-31 00:00:00    200 Choco        107\n",
       "8829 2024-10-31 00:00:00  200 Vanilla        277\n",
       "8830 2024-10-31 00:00:00    500 Choco         44\n",
       "8831 2024-10-31 00:00:00  500 Vanilla         41\n",
       "\n",
       "[8832 rows x 3 columns]"
      ]
     },
     "execution_count": 125,
     "metadata": {},
     "output_type": "execute_result"
    }
   ],
   "source": [
    "#menggabungkan dataset\n",
    "final_data = pd.concat([data, data1], ignore_index=True)\n",
    "final_data"
   ]
  },
  {
   "cell_type": "code",
   "execution_count": 126,
   "id": "485f86c4",
   "metadata": {},
   "outputs": [
    {
     "data": {
      "text/html": [
       "<div>\n",
       "<style scoped>\n",
       "    .dataframe tbody tr th:only-of-type {\n",
       "        vertical-align: middle;\n",
       "    }\n",
       "\n",
       "    .dataframe tbody tr th {\n",
       "        vertical-align: top;\n",
       "    }\n",
       "\n",
       "    .dataframe thead th {\n",
       "        text-align: right;\n",
       "    }\n",
       "</style>\n",
       "<table border=\"1\" class=\"dataframe\">\n",
       "  <thead>\n",
       "    <tr style=\"text-align: right;\">\n",
       "      <th></th>\n",
       "      <th>Product Name</th>\n",
       "      <th>Price</th>\n",
       "      <th>Updated At</th>\n",
       "    </tr>\n",
       "  </thead>\n",
       "  <tbody>\n",
       "    <tr>\n",
       "      <th>0</th>\n",
       "      <td>200 Vanilla</td>\n",
       "      <td>7800</td>\n",
       "      <td>2023-01-01</td>\n",
       "    </tr>\n",
       "    <tr>\n",
       "      <th>1</th>\n",
       "      <td>200 Almond</td>\n",
       "      <td>8200</td>\n",
       "      <td>2023-01-01</td>\n",
       "    </tr>\n",
       "    <tr>\n",
       "      <th>2</th>\n",
       "      <td>200 Choco</td>\n",
       "      <td>8500</td>\n",
       "      <td>2023-01-01</td>\n",
       "    </tr>\n",
       "    <tr>\n",
       "      <th>3</th>\n",
       "      <td>500 Vanilla</td>\n",
       "      <td>20500</td>\n",
       "      <td>2023-01-01</td>\n",
       "    </tr>\n",
       "    <tr>\n",
       "      <th>4</th>\n",
       "      <td>500 Choco</td>\n",
       "      <td>23500</td>\n",
       "      <td>2023-01-01</td>\n",
       "    </tr>\n",
       "    <tr>\n",
       "      <th>5</th>\n",
       "      <td>200 Vanilla</td>\n",
       "      <td>8000</td>\n",
       "      <td>2024-01-01</td>\n",
       "    </tr>\n",
       "    <tr>\n",
       "      <th>6</th>\n",
       "      <td>200 Almond</td>\n",
       "      <td>8500</td>\n",
       "      <td>2024-01-01</td>\n",
       "    </tr>\n",
       "    <tr>\n",
       "      <th>7</th>\n",
       "      <td>200 Choco</td>\n",
       "      <td>9100</td>\n",
       "      <td>2024-03-01</td>\n",
       "    </tr>\n",
       "    <tr>\n",
       "      <th>8</th>\n",
       "      <td>500 Vanilla</td>\n",
       "      <td>19800</td>\n",
       "      <td>2024-06-01</td>\n",
       "    </tr>\n",
       "    <tr>\n",
       "      <th>9</th>\n",
       "      <td>500 Choco</td>\n",
       "      <td>21500</td>\n",
       "      <td>2024-06-01</td>\n",
       "    </tr>\n",
       "  </tbody>\n",
       "</table>\n",
       "</div>"
      ],
      "text/plain": [
       "  Product Name  Price Updated At\n",
       "0  200 Vanilla   7800 2023-01-01\n",
       "1   200 Almond   8200 2023-01-01\n",
       "2    200 Choco   8500 2023-01-01\n",
       "3  500 Vanilla  20500 2023-01-01\n",
       "4    500 Choco  23500 2023-01-01\n",
       "5  200 Vanilla   8000 2024-01-01\n",
       "6   200 Almond   8500 2024-01-01\n",
       "7    200 Choco   9100 2024-03-01\n",
       "8  500 Vanilla  19800 2024-06-01\n",
       "9    500 Choco  21500 2024-06-01"
      ]
     },
     "execution_count": 126,
     "metadata": {},
     "output_type": "execute_result"
    }
   ],
   "source": [
    "product = pd.read_excel('E:/Pekerjaan/New Folder/master_product.xlsx')\n",
    "product"
   ]
  },
  {
   "cell_type": "code",
   "execution_count": 127,
   "id": "eda34c9e",
   "metadata": {},
   "outputs": [
    {
     "name": "stdout",
     "output_type": "stream",
     "text": [
      "<class 'pandas.core.frame.DataFrame'>\n",
      "RangeIndex: 10 entries, 0 to 9\n",
      "Data columns (total 3 columns):\n",
      " #   Column        Non-Null Count  Dtype         \n",
      "---  ------        --------------  -----         \n",
      " 0   Product Name  10 non-null     object        \n",
      " 1   Price         10 non-null     int64         \n",
      " 2   Updated At    10 non-null     datetime64[ns]\n",
      "dtypes: datetime64[ns](1), int64(1), object(1)\n",
      "memory usage: 368.0+ bytes\n"
     ]
    }
   ],
   "source": [
    "product.info()"
   ]
  },
  {
   "cell_type": "code",
   "execution_count": 128,
   "id": "9bee5108",
   "metadata": {},
   "outputs": [
    {
     "data": {
      "text/plain": [
       "Product Name    0\n",
       "Price           0\n",
       "Updated At      0\n",
       "dtype: int64"
      ]
     },
     "execution_count": 128,
     "metadata": {},
     "output_type": "execute_result"
    }
   ],
   "source": [
    "product.isna().sum()"
   ]
  },
  {
   "cell_type": "markdown",
   "id": "5d50d6c1",
   "metadata": {},
   "source": [
    "Combine the final data (the merged data from 2023 and 2024) with the master data. Also, calculate the revenue by multiplying the Sales Quantity with the Price, using the updated price from the master data."
   ]
  },
  {
   "cell_type": "code",
   "execution_count": 129,
   "id": "c4354877",
   "metadata": {},
   "outputs": [
    {
     "data": {
      "text/html": [
       "<div>\n",
       "<style scoped>\n",
       "    .dataframe tbody tr th:only-of-type {\n",
       "        vertical-align: middle;\n",
       "    }\n",
       "\n",
       "    .dataframe tbody tr th {\n",
       "        vertical-align: top;\n",
       "    }\n",
       "\n",
       "    .dataframe thead th {\n",
       "        text-align: right;\n",
       "    }\n",
       "</style>\n",
       "<table border=\"1\" class=\"dataframe\">\n",
       "  <thead>\n",
       "    <tr style=\"text-align: right;\">\n",
       "      <th></th>\n",
       "      <th>Date</th>\n",
       "      <th>Product Name</th>\n",
       "      <th>Sales Qty</th>\n",
       "      <th>Price</th>\n",
       "      <th>Revenue</th>\n",
       "    </tr>\n",
       "  </thead>\n",
       "  <tbody>\n",
       "    <tr>\n",
       "      <th>0</th>\n",
       "      <td>2023-01-01 00:37:00</td>\n",
       "      <td>200 Choco</td>\n",
       "      <td>44</td>\n",
       "      <td>8500</td>\n",
       "      <td>374000</td>\n",
       "    </tr>\n",
       "    <tr>\n",
       "      <th>1</th>\n",
       "      <td>2023-01-01 01:06:00</td>\n",
       "      <td>500 Choco</td>\n",
       "      <td>44</td>\n",
       "      <td>23500</td>\n",
       "      <td>1034000</td>\n",
       "    </tr>\n",
       "    <tr>\n",
       "      <th>2</th>\n",
       "      <td>2023-01-01 02:00:00</td>\n",
       "      <td>200 Vanilla</td>\n",
       "      <td>43</td>\n",
       "      <td>7800</td>\n",
       "      <td>335400</td>\n",
       "    </tr>\n",
       "    <tr>\n",
       "      <th>3</th>\n",
       "      <td>2023-01-01 04:12:00</td>\n",
       "      <td>200 Choco</td>\n",
       "      <td>46</td>\n",
       "      <td>8500</td>\n",
       "      <td>391000</td>\n",
       "    </tr>\n",
       "    <tr>\n",
       "      <th>4</th>\n",
       "      <td>2023-01-01 05:02:00</td>\n",
       "      <td>500 Choco</td>\n",
       "      <td>38</td>\n",
       "      <td>23500</td>\n",
       "      <td>893000</td>\n",
       "    </tr>\n",
       "    <tr>\n",
       "      <th>...</th>\n",
       "      <td>...</td>\n",
       "      <td>...</td>\n",
       "      <td>...</td>\n",
       "      <td>...</td>\n",
       "      <td>...</td>\n",
       "    </tr>\n",
       "    <tr>\n",
       "      <th>8827</th>\n",
       "      <td>2024-10-31 00:00:00</td>\n",
       "      <td>200 Almond</td>\n",
       "      <td>92</td>\n",
       "      <td>8500</td>\n",
       "      <td>782000</td>\n",
       "    </tr>\n",
       "    <tr>\n",
       "      <th>8828</th>\n",
       "      <td>2024-10-31 00:00:00</td>\n",
       "      <td>200 Choco</td>\n",
       "      <td>107</td>\n",
       "      <td>9100</td>\n",
       "      <td>973700</td>\n",
       "    </tr>\n",
       "    <tr>\n",
       "      <th>8829</th>\n",
       "      <td>2024-10-31 00:00:00</td>\n",
       "      <td>200 Vanilla</td>\n",
       "      <td>277</td>\n",
       "      <td>8000</td>\n",
       "      <td>2216000</td>\n",
       "    </tr>\n",
       "    <tr>\n",
       "      <th>8830</th>\n",
       "      <td>2024-10-31 00:00:00</td>\n",
       "      <td>500 Choco</td>\n",
       "      <td>44</td>\n",
       "      <td>21500</td>\n",
       "      <td>946000</td>\n",
       "    </tr>\n",
       "    <tr>\n",
       "      <th>8831</th>\n",
       "      <td>2024-10-31 00:00:00</td>\n",
       "      <td>500 Vanilla</td>\n",
       "      <td>41</td>\n",
       "      <td>19800</td>\n",
       "      <td>811800</td>\n",
       "    </tr>\n",
       "  </tbody>\n",
       "</table>\n",
       "<p>8832 rows × 5 columns</p>\n",
       "</div>"
      ],
      "text/plain": [
       "                    Date Product Name  Sales Qty  Price  Revenue\n",
       "0    2023-01-01 00:37:00    200 Choco         44   8500   374000\n",
       "1    2023-01-01 01:06:00    500 Choco         44  23500  1034000\n",
       "2    2023-01-01 02:00:00  200 Vanilla         43   7800   335400\n",
       "3    2023-01-01 04:12:00    200 Choco         46   8500   391000\n",
       "4    2023-01-01 05:02:00    500 Choco         38  23500   893000\n",
       "...                  ...          ...        ...    ...      ...\n",
       "8827 2024-10-31 00:00:00   200 Almond         92   8500   782000\n",
       "8828 2024-10-31 00:00:00    200 Choco        107   9100   973700\n",
       "8829 2024-10-31 00:00:00  200 Vanilla        277   8000  2216000\n",
       "8830 2024-10-31 00:00:00    500 Choco         44  21500   946000\n",
       "8831 2024-10-31 00:00:00  500 Vanilla         41  19800   811800\n",
       "\n",
       "[8832 rows x 5 columns]"
      ]
     },
     "execution_count": 129,
     "metadata": {},
     "output_type": "execute_result"
    }
   ],
   "source": [
    "result = final_data.copy()\n",
    "result['Price'] = None\n",
    "\n",
    "for i, row in result.iterrows():\n",
    "    product_name = row['Product Name']\n",
    "    date         = row['Date']\n",
    "    \n",
    "    filtered_product = product[product['Product Name'] == product_name]\n",
    "    \n",
    "    valid_price = filtered_product[filtered_product['Updated At'] <= date]\n",
    "    if not valid_price.empty:\n",
    "        applicable_price = valid_price.sort_values('Updated At', ascending=False).iloc[0]['Price']\n",
    "        result.at[i, 'Price'] = applicable_price\n",
    "        \n",
    "result['Revenue'] = result['Sales Qty'] * result['Price']\n",
    "result"
   ]
  },
  {
   "cell_type": "code",
   "execution_count": 130,
   "id": "66f0d605",
   "metadata": {},
   "outputs": [
    {
     "name": "stdout",
     "output_type": "stream",
     "text": [
      "<class 'pandas.core.frame.DataFrame'>\n",
      "RangeIndex: 8832 entries, 0 to 8831\n",
      "Data columns (total 5 columns):\n",
      " #   Column        Non-Null Count  Dtype         \n",
      "---  ------        --------------  -----         \n",
      " 0   Date          8832 non-null   datetime64[ns]\n",
      " 1   Product Name  8832 non-null   object        \n",
      " 2   Sales Qty     8832 non-null   int64         \n",
      " 3   Price         8832 non-null   object        \n",
      " 4   Revenue       8832 non-null   object        \n",
      "dtypes: datetime64[ns](1), int64(1), object(3)\n",
      "memory usage: 345.1+ KB\n"
     ]
    }
   ],
   "source": [
    "result.info()"
   ]
  },
  {
   "cell_type": "code",
   "execution_count": 131,
   "id": "ebb10843",
   "metadata": {},
   "outputs": [],
   "source": [
    "#ubah tipe data\n",
    "result['Price'] = pd.to_numeric(result['Price'], errors='coerce')\n",
    "result['Revenue'] = pd.to_numeric(result['Revenue'], errors='coerce')"
   ]
  },
  {
   "cell_type": "code",
   "execution_count": 132,
   "id": "a6a566cf",
   "metadata": {},
   "outputs": [],
   "source": [
    "# result.to_excel('E:/Pekerjaan/New Folder/result.xlsx', index=False)"
   ]
  },
  {
   "cell_type": "markdown",
   "id": "50027786",
   "metadata": {},
   "source": [
    "# **Data Analysis**"
   ]
  },
  {
   "cell_type": "markdown",
   "id": "9dbf7b13",
   "metadata": {},
   "source": [
    "**- MONTHLY PERFORMANCE/REVENUE -**"
   ]
  },
  {
   "cell_type": "code",
   "execution_count": 133,
   "id": "c957395f",
   "metadata": {},
   "outputs": [
    {
     "data": {
      "text/plain": [
       "Date\n",
       "2023-01-31     115688300\n",
       "2023-02-28      99305700\n",
       "2023-03-31     113340400\n",
       "2023-04-30     113866100\n",
       "2023-05-31     116711000\n",
       "2023-06-30     109045000\n",
       "2023-07-31     124492500\n",
       "2023-08-31     112937000\n",
       "2023-09-30     119942700\n",
       "2023-10-31     117437800\n",
       "2023-11-30     111249000\n",
       "2023-12-31    1969401200\n",
       "2024-01-31     115605000\n",
       "2024-02-29     106298500\n",
       "2024-03-31     122891200\n",
       "2024-04-30     107311900\n",
       "2024-05-31     124421100\n",
       "2024-06-30     114166800\n",
       "2024-07-31     123041000\n",
       "2024-08-31     124029500\n",
       "2024-09-30     111212700\n",
       "2024-10-31     120846500\n",
       "Freq: M, Name: Revenue, dtype: int64"
      ]
     },
     "execution_count": 133,
     "metadata": {},
     "output_type": "execute_result"
    }
   ],
   "source": [
    "result = result.set_index('Date')\n",
    "monthly = result['Revenue'].resample('M').sum()\n",
    "monthly"
   ]
  },
  {
   "cell_type": "code",
   "execution_count": 135,
   "id": "cf94dec1",
   "metadata": {},
   "outputs": [
    {
     "data": {
      "image/png": "[encoded data removed]",
      "text/plain": [
       "<Figure size 864x432 with 1 Axes>"
      ]
     },
     "metadata": {
      "needs_background": "light"
     },
     "output_type": "display_data"
    }
   ],
   "source": [
    "# Memisahkan data berdasarkan tahun\n",
    "monthly_2023 = monthly[monthly.index.year == 2023]\n",
    "monthly_2024 = monthly[monthly.index.year == 2024]\n",
    "\n",
    "# Plot grafik dengan style yang lebih menarik\n",
    "plt.figure(figsize=(12, 6))\n",
    "\n",
    "# Line chart untuk 2023\n",
    "plt.plot(\n",
    "    monthly_2023.index, \n",
    "    monthly_2023.values, \n",
    "    label='2023', \n",
    "    color='#1B0C41', \n",
    "    linewidth=2, \n",
    "    marker='o'\n",
    ")\n",
    "\n",
    "\n",
    "# Line chart untuk 2024\n",
    "plt.plot(\n",
    "    monthly_2024.index, \n",
    "    monthly_2024.values, \n",
    "    label='2024', \n",
    "    color='#FF5733', \n",
    "    linewidth=2, \n",
    "    marker='o'\n",
    ")\n",
    "\n",
    "\n",
    "# Menambahkan grid dan styling\n",
    "plt.grid(color='gray', linestyle='--', linewidth=0.5, alpha=0.7)\n",
    "\n",
    "# Atur sumbu X supaya lebih rapi\n",
    "plt.xticks(\n",
    "    monthly.index, \n",
    "    labels=[date.strftime('%b %Y') for date in monthly.index], \n",
    "    rotation=45, \n",
    "    ha='right'\n",
    ")\n",
    "\n",
    "# Label dan judul\n",
    "plt.xlabel('Date', fontsize=12)\n",
    "plt.ylabel('Revenue', fontsize=12)\n",
    "plt.title('Monthly Revenue Comparison (2023 vs 2024)', fontsize=14, fontweight='bold')\n",
    "\n",
    "# Menambahkan legenda\n",
    "plt.legend(title=\"Year\", fontsize=10)\n",
    "\n",
    "# Tampilkan grafik\n",
    "plt.tight_layout()\n",
    "plt.show()"
   ]
  },
  {
   "cell_type": "markdown",
   "id": "70eab863",
   "metadata": {},
   "source": [
    "The visualization shows an outlier in December 2023, with a revenue of 1,969,401,200. Therefore, steps need to be taken to handle this outlier so that the revenue becomes more accurate and realistic."
   ]
  },
  {
   "cell_type": "markdown",
   "id": "fc472275",
   "metadata": {},
   "source": [
    "**Outlier Handling for December 2023 Data**"
   ]
  },
  {
   "cell_type": "code",
   "execution_count": 136,
   "id": "77e1d273",
   "metadata": {},
   "outputs": [
    {
     "data": {
      "text/plain": [
       "Date\n",
       "2023-01-31   115,688,300\n",
       "2023-02-28    99,305,700\n",
       "2023-03-31   113,340,400\n",
       "2023-04-30   113,866,100\n",
       "2023-05-31   116,711,000\n",
       "2023-06-30   109,045,000\n",
       "2023-07-31   124,492,500\n",
       "2023-08-31   112,937,000\n",
       "2023-09-30   119,942,700\n",
       "2023-10-31   117,437,800\n",
       "2023-11-30   111,249,000\n",
       "2023-12-31   115,646,650\n",
       "2024-01-31   115,605,000\n",
       "2024-02-29   106,298,500\n",
       "2024-03-31   122,891,200\n",
       "2024-04-30   107,311,900\n",
       "2024-05-31   124,421,100\n",
       "2024-06-30   114,166,800\n",
       "2024-07-31   123,041,000\n",
       "2024-08-31   124,029,500\n",
       "2024-09-30   111,212,700\n",
       "2024-10-31   120,846,500\n",
       "Freq: M, Name: Revenue, dtype: float64"
      ]
     },
     "execution_count": 136,
     "metadata": {},
     "output_type": "execute_result"
    }
   ],
   "source": [
    "monthly.index = pd.to_datetime(monthly.index)\n",
    "\n",
    "#menggunakan metode IQR\n",
    "Q1 = monthly.quantile(0.25)\n",
    "Q3 = monthly.quantile(0.75)\n",
    "IQR = Q3 - Q1\n",
    "\n",
    "#menentukan batas bawah dan atas\n",
    "lower_bound = Q1 - 1.5 * IQR\n",
    "upper_bound = Q3 + 1.5 * IQR\n",
    "\n",
    "#identifikasi dan ganti outlier\n",
    "monthly_no_outliers = monthly.copy()\n",
    "monthly_no_outliers[(monthly < lower_bound) | (monthly > upper_bound)] = np.nan\n",
    "monthly_no_outliers.fillna(monthly.median(), inplace=True)\n",
    "\n",
    "pd.options.display.float_format = '{:,.0f}'.format\n",
    "monthly_no_outliers"
   ]
  },
  {
   "cell_type": "markdown",
   "id": "f4e0285b",
   "metadata": {},
   "source": [
    "The result above shows the removal of the outlier in December 2023 using the Median. Previously, the outlier was handled using the Mean, but the result still showed a high revenue for December 2023, which did not reflect good performance. Therefore, it was decided to use the Median, which is more resistant to extreme values, to handle the outlier. By using the Median, the revenue for December 2023 became more stable and better aligned with the revenue pattern of other months."
   ]
  },
  {
   "cell_type": "code",
   "execution_count": 137,
   "id": "119922ea",
   "metadata": {},
   "outputs": [
    {
     "data": {
      "image/png": "[encoded data removed]",
      "text/plain": [
       "<Figure size 864x432 with 1 Axes>"
      ]
     },
     "metadata": {
      "needs_background": "light"
     },
     "output_type": "display_data"
    }
   ],
   "source": [
    "#memisahkan data berdasarkan tahun\n",
    "monthly_2023 = monthly_no_outliers[monthly_no_outliers.index.year == 2023]\n",
    "monthly_2024 = monthly_no_outliers[monthly_no_outliers.index.year == 2024]\n",
    "\n",
    "plt.figure(figsize=(12, 6))\n",
    "\n",
    "#line chart untuk 2023\n",
    "plt.plot(\n",
    "    monthly_2023.index, \n",
    "    monthly_2023.values, \n",
    "    label='2023', \n",
    "    color='#1B0C41', \n",
    "    linewidth=2, \n",
    "    marker='o'\n",
    ")\n",
    "\n",
    "\n",
    "#line chart untuk 2024\n",
    "plt.plot(\n",
    "    monthly_2024.index, \n",
    "    monthly_2024.values, \n",
    "    label='2024', \n",
    "    color='#FF5733', \n",
    "    linewidth=2, \n",
    "    marker='o'\n",
    ")\n",
    "\n",
    "\n",
    "plt.grid(color='gray', linestyle='--', linewidth=0.5, alpha=0.7)\n",
    "\n",
    "plt.xticks(\n",
    "    monthly_no_outliers.index, \n",
    "    labels=[date.strftime('%b %Y') for date in monthly.index], \n",
    "    rotation=45, \n",
    "    ha='right'\n",
    ")\n",
    "\n",
    "plt.xlabel('Date', fontsize=12)\n",
    "plt.ylabel('Revenue', fontsize=12)\n",
    "plt.title('Monthly Revenue Comparison (2023 vs 2024)', fontsize=14, fontweight='bold')\n",
    "\n",
    "plt.legend(title=\"Year\", fontsize=10)\n",
    "\n",
    "plt.tight_layout()\n",
    "plt.show()"
   ]
  },
  {
   "cell_type": "markdown",
   "id": "c18aa6b7",
   "metadata": {},
   "source": [
    "The line chart shown after handling the outlier displays a better graph with no visible outliers."
   ]
  },
  {
   "cell_type": "markdown",
   "id": "ff9a2ead",
   "metadata": {},
   "source": [
    "**- PRODUCT PERFORMANCE -**"
   ]
  },
  {
   "cell_type": "markdown",
   "id": "ae6f7bc1",
   "metadata": {},
   "source": [
    "**1. Product Quantity Sold**"
   ]
  },
  {
   "cell_type": "code",
   "execution_count": 138,
   "id": "d81555ad",
   "metadata": {},
   "outputs": [
    {
     "data": {
      "text/plain": [
       "Product Name\n",
       "200 Vanilla    222161\n",
       "200 Choco      101477\n",
       "200 Almond      55784\n",
       "500 Choco       36142\n",
       "500 Vanilla     23222\n",
       "Name: Sales Qty, dtype: int64"
      ]
     },
     "execution_count": 138,
     "metadata": {},
     "output_type": "execute_result"
    }
   ],
   "source": [
    "product_qty = result.groupby('Product Name')['Sales Qty'].sum()\n",
    "product_qty_sort = product_qty.sort_values(ascending=False)\n",
    "product_qty_sort"
   ]
  },
  {
   "cell_type": "code",
   "execution_count": 139,
   "id": "799b9300",
   "metadata": {},
   "outputs": [
    {
     "data": {
      "image/png": "[encoded data removed]",
      "text/plain": [
       "<Figure size 720x360 with 1 Axes>"
      ]
     },
     "metadata": {
      "needs_background": "light"
     },
     "output_type": "display_data"
    }
   ],
   "source": [
    "#reset index dan ganti nama kolom\n",
    "product_qty_sort = product_qty_sort.reset_index()\n",
    "product_qty_sort.columns = ['Product Name', 'Sales Qty']  # Harus 2 kolom: 'Product Name' dan 'Sales Qty'\n",
    "\n",
    "plt.figure(figsize=(10, 5))\n",
    "ax = sns.barplot(x='Product Name', y='Sales Qty', data=product_qty_sort, palette='magma')\n",
    "\n",
    "#tambah label pada setiap batang\n",
    "for container in ax.containers:\n",
    "    ax.bar_label(container, fmt='%.0f', label_type='edge')\n",
    "\n",
    "plt.xticks(rotation=45)  \n",
    "plt.title('Product Quantity Sold')\n",
    "plt.xlabel('Product Name')\n",
    "plt.ylabel('Sales Qty')  \n",
    "plt.show()"
   ]
  },
  {
   "cell_type": "markdown",
   "id": "769bdbc5",
   "metadata": {},
   "source": [
    "**Managing Outlier Effects on Product Quantity Sold**"
   ]
  },
  {
   "cell_type": "code",
   "execution_count": 140,
   "id": "38ee0803",
   "metadata": {},
   "outputs": [
    {
     "data": {
      "image/png": "[encoded data removed]",
      "text/plain": [
       "<Figure size 720x432 with 1 Axes>"
      ]
     },
     "metadata": {
      "needs_background": "light"
     },
     "output_type": "display_data"
    }
   ],
   "source": [
    "plt.figure(figsize=(10, 6))\n",
    "sns.boxplot(x=product_qty)\n",
    "plt.title('Boxplot of Product Quantity Sold')\n",
    "plt.show()"
   ]
  },
  {
   "cell_type": "markdown",
   "id": "f816d009",
   "metadata": {},
   "source": [
    "The boxplot above shows that the Product Quantity Sold has outliers, which can be seen from the data points outside the whiskers (the horizontal lines on both sides of the box). Therefore, further action is needed to address these outliers and make the results more realistic."
   ]
  },
  {
   "cell_type": "code",
   "execution_count": 141,
   "id": "e16800f1",
   "metadata": {},
   "outputs": [
    {
     "name": "stdout",
     "output_type": "stream",
     "text": [
      "Product Name\n",
      "200 Vanilla    73359\n",
      "200 Choco      39703\n",
      "200 Almond     27091\n",
      "500 Choco      18648\n",
      "500 Vanilla    13701\n",
      "Name: Sales Qty, dtype: int64\n"
     ]
    }
   ],
   "source": [
    "result_copy = result.copy()\n",
    "\n",
    "#loop untuk setiap produk\n",
    "for product in result_copy['Product Name'].unique():\n",
    "    qty = result_copy[result_copy['Product Name'] == product]['Sales Qty']\n",
    "    \n",
    "    #hitung Q1, Q3, dan IQR\n",
    "    Q1 = qty.quantile(0.25)\n",
    "    Q3 = qty.quantile(0.75)\n",
    "    IQR = Q3 - Q1\n",
    "    \n",
    "    #menentukan batas bawah dan atas untuk produk ini\n",
    "    lower_bound = Q1 - 1.5 * IQR\n",
    "    upper_bound = Q3 + 1.5 * IQR\n",
    "    \n",
    "    product_median = qty.median()\n",
    "\n",
    "    #ganti outlier dengan median\n",
    "    result_copy.loc[(result_copy['Product Name'] == product) & \n",
    "                    ((result_copy['Sales Qty'] < lower_bound) | \n",
    "                     (result_copy['Sales Qty'] > upper_bound)), 'Sales Qty'] = product_median\n",
    "\n",
    "#hitung total Sales Qty per produk setelah mengganti outlier\n",
    "product_qty_no_outliers = result_copy.groupby('Product Name')['Sales Qty'].sum()\n",
    "\n",
    "\n",
    "product_qty_no_outliers_sort = product_qty_no_outliers.sort_values(ascending=False)\n",
    "product_qty_no_outliers_sort"
   ]
  },
  {
   "cell_type": "code",
   "execution_count": 142,
   "id": "ce3b9224",
   "metadata": {},
   "outputs": [
    {
     "data": {
      "image/png": "[encoded data removed]",
      "text/plain": [
       "<Figure size 720x432 with 1 Axes>"
      ]
     },
     "metadata": {
      "needs_background": "light"
     },
     "output_type": "display_data"
    }
   ],
   "source": [
    "plt.figure(figsize=(10, 6))\n",
    "sns.boxplot(x=product_qty_no_outliers_sort)\n",
    "plt.title('Boxplot of Product Quantity Sold')\n",
    "plt.show()"
   ]
  },
  {
   "cell_type": "markdown",
   "id": "42ecf3ac",
   "metadata": {},
   "source": [
    "After handling the outliers, the results are still the same. The boxplot shows that there are still data points outside the whiskers (the horizontal lines on both sides of the box). If outliers are still visible after handling, it could mean that the adjusted values are good, but there might still be outliers. Further analysis may be needed to check if the outlier handling was successful or if the values are already correct without outliers."
   ]
  },
  {
   "cell_type": "markdown",
   "id": "ff5d3ec0",
   "metadata": {},
   "source": [
    "**2. Revenue by Product**"
   ]
  },
  {
   "cell_type": "code",
   "execution_count": 143,
   "id": "b47ee039",
   "metadata": {},
   "outputs": [
    {
     "data": {
      "text/plain": [
       "Product Name\n",
       "200 Vanilla    1743991400\n",
       "200 Choco       874814300\n",
       "500 Choco       838703000\n",
       "500 Vanilla     473644400\n",
       "200 Almond      462087800\n",
       "Name: Revenue, dtype: int64"
      ]
     },
     "execution_count": 143,
     "metadata": {},
     "output_type": "execute_result"
    }
   ],
   "source": [
    "product_revenue = result.groupby('Product Name')['Revenue'].sum()\n",
    "product_revenue_sort = product_revenue.sort_values(ascending=False)\n",
    "product_revenue_sort"
   ]
  },
  {
   "cell_type": "code",
   "execution_count": 144,
   "id": "47858a3b",
   "metadata": {},
   "outputs": [
    {
     "data": {
      "image/png": "[encoded data removed]",
      "text/plain": [
       "<Figure size 720x360 with 1 Axes>"
      ]
     },
     "metadata": {
      "needs_background": "light"
     },
     "output_type": "display_data"
    }
   ],
   "source": [
    "#eset index dan ganti nama kolom\n",
    "product_revenue_sort = product_revenue_sort.reset_index()\n",
    "product_revenue_sort.columns = ['Product Name', 'Revenue']\n",
    "\n",
    "plt.figure(figsize=(10, 5))\n",
    "ax = sns.barplot(x='Product Name', y='Revenue', data=product_revenue_sort, palette='magma')\n",
    "\n",
    "for container in ax.containers:\n",
    "    ax.bar_label(container, fmt='%.0f', label_type='edge')\n",
    "\n",
    "plt.xticks(rotation=45)\n",
    "plt.title('Product Revenue') \n",
    "plt.xlabel('Product Name') \n",
    "plt.ylabel('Revenue') \n",
    "plt.show()"
   ]
  },
  {
   "cell_type": "markdown",
   "id": "947c1c5f",
   "metadata": {},
   "source": [
    "**Managing Outlier Effects on Product Revenue**"
   ]
  },
  {
   "cell_type": "code",
   "execution_count": 145,
   "id": "24aaaac6",
   "metadata": {},
   "outputs": [
    {
     "data": {
      "image/png": "[encoded data removed]",
      "text/plain": [
       "<Figure size 720x432 with 1 Axes>"
      ]
     },
     "metadata": {
      "needs_background": "light"
     },
     "output_type": "display_data"
    }
   ],
   "source": [
    "plt.figure(figsize=(10, 6))\n",
    "sns.boxplot(x=product_revenue)\n",
    "plt.title('Boxplot of Product Revenue')\n",
    "plt.show()"
   ]
  },
  {
   "cell_type": "markdown",
   "id": "f30892cd",
   "metadata": {},
   "source": [
    "The boxplot above shows that there are outliers in the revenue of each product, with data points outside the whiskers (the horizontal lines on both sides of the box). This indicates that some revenue values are much higher than the others. Therefore, further action is needed to handle these outliers so that the revenue values for each product are more accurate and appropriate."
   ]
  },
  {
   "cell_type": "code",
   "execution_count": 146,
   "id": "3e106e23",
   "metadata": {},
   "outputs": [
    {
     "data": {
      "text/plain": [
       "Product Name\n",
       "200 Choco     874,814,300\n",
       "200 Vanilla   838,703,000\n",
       "500 Choco     838,703,000\n",
       "500 Vanilla   473,644,400\n",
       "200 Almond    462,087,800\n",
       "Name: Revenue, dtype: float64"
      ]
     },
     "execution_count": 146,
     "metadata": {},
     "output_type": "execute_result"
    }
   ],
   "source": [
    "#menggunakan IQR untuk memeriksa outlier pada revenue per produk\n",
    "Q1 = product_revenue.quantile(0.25)\n",
    "Q3 = product_revenue.quantile(0.75)\n",
    "IQR = Q3 - Q1\n",
    "\n",
    "#menentukan batas bawah dan atas\n",
    "lower_bound = Q1 - 1.5 * IQR\n",
    "upper_bound = Q3 + 1.5 * IQR\n",
    "\n",
    "#mengidentifikasi dan ganti outlier\n",
    "product_revenue_outliers = product_revenue.copy()\n",
    "product_revenue_outliers[(product_revenue < lower_bound) | (product_revenue > upper_bound)] = np.nan\n",
    "product_revenue_outliers.fillna(product_revenue.median(), inplace=True) \n",
    "\n",
    "product_no_outliers = product_revenue_outliers.sort_values(ascending=False)\n",
    "product_no_outliers"
   ]
  },
  {
   "cell_type": "markdown",
   "id": "2253cef3",
   "metadata": {},
   "source": [
    "The method used to address the outliers in the revenue for each product was the Median. The Median was chosen because it provides a more stable representation and is not influenced by extreme values. If the Mean were used, it would be necessary to consider whether the revenue spike in December 2023 is normal and if it could happen again in the following year. Since the data only goes up to October 2024, it's unclear whether this spike reflects a consistent pattern. Therefore, for the analysis of product revenue, using the Median is considered the best approach to handle the outlier in December 2023."
   ]
  },
  {
   "cell_type": "code",
   "execution_count": 147,
   "id": "1ddfdaf0",
   "metadata": {},
   "outputs": [
    {
     "data": {
      "image/png": "[encoded data removed]",
      "text/plain": [
       "<Figure size 720x432 with 1 Axes>"
      ]
     },
     "metadata": {
      "needs_background": "light"
     },
     "output_type": "display_data"
    }
   ],
   "source": [
    "plt.figure(figsize=(10, 6))\n",
    "sns.boxplot(x=product_no_outliers)\n",
    "plt.title('Boxplot of Product Revenue')\n",
    "plt.show()"
   ]
  },
  {
   "cell_type": "markdown",
   "id": "a47d331e",
   "metadata": {},
   "source": [
    "The boxplot shown indicates that the revenue values, after being processed with the Median, are more stable and no longer affected by outliers. This can be seen from the more balanced interquartile range, with no extreme data points that would cause the distribution to become skewed. As a result, the revenue data for each product is more representative and can be used for further analysis without bias from extreme values."
   ]
  },
  {
   "cell_type": "code",
   "execution_count": 148,
   "id": "f685ace9",
   "metadata": {},
   "outputs": [
    {
     "data": {
      "image/png": "[encoded data removed]",
      "text/plain": [
       "<Figure size 720x360 with 1 Axes>"
      ]
     },
     "metadata": {
      "needs_background": "light"
     },
     "output_type": "display_data"
    }
   ],
   "source": [
    "product_no_outliers = product_no_outliers.reset_index()\n",
    "product_no_outliers.columns = ['Product Name', 'Revenue']\n",
    "\n",
    "plt.figure(figsize=(10, 5))\n",
    "ax = sns.barplot(x='Product Name', y='Revenue', data=product_no_outliers, palette='magma')\n",
    "\n",
    "for container in ax.containers:\n",
    "    ax.bar_label(container, fmt='%.0f', label_type='edge')\n",
    "\n",
    "plt.xticks(rotation=45)\n",
    "plt.title('Product Revenue')\n",
    "plt.xlabel('Product Name')\n",
    "plt.ylabel('Revenue')\n",
    "plt.show()"
   ]
  },
  {
   "cell_type": "markdown",
   "id": "21d0d776",
   "metadata": {},
   "source": [
    "The bar chart displayed shows more stable values compared to before the outlier management process. The revenue achieved is considered good, and there are no visible outliers. The highest product revenue is from 200 Choco, with a revenue of 874,814,300, while the lowest revenue comes from 200 Almond, with a revenue of 462,087,800."
   ]
  },
  {
   "cell_type": "markdown",
   "id": "1df0807f",
   "metadata": {},
   "source": [
    "**- FUTURE SALES FORECAST -**"
   ]
  },
  {
   "cell_type": "markdown",
   "id": "b1f606c1",
   "metadata": {},
   "source": [
    "In the future sales forecasting or revenue prediction analysis, tests were done using several models, such as Linear Regression and Prophet. The RMSE results from each model are shown to help determine which model fits the data best. However, the RMSE value alone should not be the only measure of modeling success because other factors, such as the prediction pattern matching the historical data dynamics, are also important to ensure forecasting accuracy.\n",
    "\n",
    "However, the revenue predictions still show values that are not very good or consistent, possibly caused by factors like the presence of outliers or other issues. Therefore, further processing is needed to understand the reasons for this mismatch.\n",
    "\n",
    "Nevertheless, the experiments with these two models provide a good starting point and can be considered as models that are capable of producing adequate results."
   ]
  },
  {
   "cell_type": "code",
   "execution_count": 149,
   "id": "55803323",
   "metadata": {},
   "outputs": [],
   "source": [
    "#mengembalikan index menjadi kolom\n",
    "result = result.reset_index()  "
   ]
  },
  {
   "cell_type": "markdown",
   "id": "96c30fb2",
   "metadata": {},
   "source": [
    "**Linear Regression**"
   ]
  },
  {
   "cell_type": "code",
   "execution_count": 150,
   "id": "2f0d641c",
   "metadata": {},
   "outputs": [],
   "source": [
    "#mengonversi kolom 'Date' menjadi fitur numerik\n",
    "result['Date'] = pd.to_datetime(result['Date'])\n",
    "result['Year'] = result['Date'].dt.year\n",
    "result['Month'] = result['Date'].dt.month\n",
    "\n",
    "\n",
    "#encoding categorical features\n",
    "encoded_data = pd.get_dummies(result, columns=['Product Name'], drop_first=True)\n",
    "\n",
    "#target split\n",
    "X = encoded_data.drop(['Revenue', 'Date'], axis=1)\n",
    "y = encoded_data['Revenue']\n",
    "\n",
    "X_train, X_test, y_train, y_test = train_test_split(X, y, test_size=0.2, random_state=42)"
   ]
  },
  {
   "cell_type": "code",
   "execution_count": 151,
   "id": "7269be15",
   "metadata": {},
   "outputs": [
    {
     "name": "stdout",
     "output_type": "stream",
     "text": [
      "MAE for Linear Regression: 112700.0\n",
      "RMSE for Linear Regression: 579795.0\n"
     ]
    }
   ],
   "source": [
    "lr_model = LinearRegression()\n",
    "\n",
    "lr_model.fit(X_train, y_train)\n",
    "\n",
    "y_pred_lr = lr_model.predict(X_test)\n",
    "\n",
    "mae_lr = mean_absolute_error(y_test, y_pred_lr)\n",
    "rmse_lr = np.sqrt(mean_squared_error(y_test, y_pred_lr))\n",
    "\n",
    "print(f\"MAE for Linear Regression: {(mae_lr).round()}\")\n",
    "print(f\"RMSE for Linear Regression: {(rmse_lr).round()}\")"
   ]
  },
  {
   "cell_type": "markdown",
   "id": "9e0ef9f9",
   "metadata": {},
   "source": [
    "The first step before making future revenue predictions is to check the RMSE value, which shows whether the model is good enough for the data used in forecasting. The RMSE value obtained is 579,795, which is considered low, making it suitable for forecasting because the model’s predictions are closer to the training data."
   ]
  },
  {
   "cell_type": "code",
   "execution_count": 152,
   "id": "c4bd80ae",
   "metadata": {},
   "outputs": [],
   "source": [
    "monthly_revenue = result.groupby(result[\"Date\"].dt.to_period(\"M\"))[\"Revenue\"].sum()"
   ]
  },
  {
   "cell_type": "code",
   "execution_count": 153,
   "id": "ba0195e4",
   "metadata": {},
   "outputs": [
    {
     "name": "stdout",
     "output_type": "stream",
     "text": [
      "            Revenue Predicted\n",
      "2024-11-30        138,452,673\n",
      "2024-12-31        139,111,248\n",
      "2025-01-31        139,772,955\n",
      "2025-02-28        140,437,810\n",
      "2025-03-31        141,105,828\n",
      "2025-04-30        141,777,023\n",
      "2025-05-31        142,451,411\n",
      "2025-06-30        143,129,007\n",
      "2025-07-31        143,809,825\n",
      "2025-08-31        144,493,883\n",
      "2025-09-30        145,181,194\n",
      "2025-10-31        145,871,774\n",
      "2025-11-30        146,565,639\n",
      "2025-12-31        147,262,805\n"
     ]
    }
   ],
   "source": [
    "#mengisi NaN dan memastikan tidak ada nilai negatif\n",
    "monthly_revenue = monthly_revenue.interpolate(method=\"linear\").fillna(1e-6)\n",
    "monthly_revenue[monthly_revenue <= 0] = 1e-6\n",
    "\n",
    "#transformasi logaritma\n",
    "log_monthly_revenue = np.log(monthly_revenue)\n",
    "\n",
    "#membuat variabel X (bulan) dan y (revenue logaritma)\n",
    "X = np.array(range(len(log_monthly_revenue))).reshape(-1, 1)\n",
    "y = log_monthly_revenue.values\n",
    "\n",
    "lin_reg_model = LinearRegression()\n",
    "lin_reg_model.fit(X, y)\n",
    "\n",
    "#prediksi untuk 14 bulan ke depan\n",
    "future_months = np.array(range(len(log_monthly_revenue), len(log_monthly_revenue) + 14)).reshape(-1, 1)\n",
    "forecast_log_lr = lin_reg_model.predict(future_months)\n",
    "\n",
    "#kembali ke skala asli dengan eksponensial\n",
    "forecast_lr = np.exp(forecast_log_lr)\n",
    "\n",
    "#menentukan tanggal untuk prediksi\n",
    "last_date = monthly_revenue.index[-1].to_timestamp()\n",
    "forecast_dates = pd.date_range(start=last_date, periods=15, freq=\"M\")[1:]\n",
    "\n",
    "forecast_lr_df = pd.DataFrame(forecast_lr, index=forecast_dates, columns=[\"Revenue Predicted\"])\n",
    "forecast_lr_df"
   ]
  },
  {
   "cell_type": "markdown",
   "id": "f36d640a",
   "metadata": {},
   "source": [
    "The revenue prediction for the future using the Linear Regression model shows an increasing trend every month. However, this pattern does not match the original data, which shows a fluctuating revenue pattern. Although the RMSE value of this model is quite low and indicates that the model is statistically suitable for the data, the predictions do not align with the actual dynamics. Due to its linear nature, this model tends to predict growth with a stable pattern (monotonically increasing or decreasing). As a result, the model fails to represent the significant fluctuations in revenue seen in the actual data."
   ]
  },
  {
   "cell_type": "markdown",
   "id": "70089267",
   "metadata": {},
   "source": [
    "**Prophet**"
   ]
  },
  {
   "cell_type": "code",
   "execution_count": 155,
   "id": "d95e7dac",
   "metadata": {},
   "outputs": [
    {
     "name": "stderr",
     "output_type": "stream",
     "text": [
      "13:16:28 - cmdstanpy - INFO - Chain [1] start processing\n",
      "13:16:43 - cmdstanpy - INFO - Chain [1] done processing\n"
     ]
    },
    {
     "name": "stdout",
     "output_type": "stream",
     "text": [
      "      Predicted Revenue\n",
      "7581          8,512,364\n",
      "7582         43,136,644\n",
      "7583         80,493,303\n",
      "7584         75,110,770\n",
      "7585         61,203,709\n",
      "7586         64,110,115\n",
      "7587        113,363,846\n",
      "7588         61,651,732\n",
      "7589         57,906,994\n",
      "7590         82,865,699\n",
      "7591         59,228,210\n",
      "7592        114,515,884\n",
      "7593        784,052,724\n",
      "7594      5,545,682,542\n"
     ]
    }
   ],
   "source": [
    "data_prophet = result[['Date', 'Revenue']].reset_index(drop=True)\n",
    "data_prophet.columns = ['ds', 'y']\n",
    "\n",
    "#memastikan data positif dan terapkan log-transformasi\n",
    "data_prophet['y'] = np.log1p(data_prophet['y'])\n",
    "\n",
    "#inisialisasi model Prophet\n",
    "model_prophet = Prophet(\n",
    "    yearly_seasonality=True, \n",
    "    daily_seasonality=False, \n",
    "    changepoint_prior_scale=0.1, \n",
    "    seasonality_prior_scale=10.0\n",
    ")\n",
    "\n",
    "#latih model\n",
    "model_prophet.fit(data_prophet)\n",
    "\n",
    "future = model_prophet.make_future_dataframe(periods=14, freq='M')\n",
    "forecast = model_prophet.predict(future)\n",
    "\n",
    "#mengembalikan hasil prediksi ke skala asli (exponential)\n",
    "forecast['Predicted Revenue'] = np.expm1(forecast['yhat'])\n",
    "\n",
    "print(forecast[['Predicted Revenue']].tail(14))"
   ]
  },
  {
   "cell_type": "markdown",
   "id": "41d85ab4",
   "metadata": {},
   "source": [
    "The revenue prediction for the future using the Prophet model shows a fluctuating pattern that is closer to the historical data compared to the Linear Regression model. However, the predicted revenue values for some months are very different from the historical data. While this model can capture seasonal patterns and fluctuations, its predictions are not accurate enough to represent the actual data. This issue may be caused by overfitting on some of the historical data, leading to large errors.\n",
    "\n",
    "Even though Prophet is more suitable for predicting fluctuating data like revenue, the prediction results still need to be evaluated further to ensure accuracy and usefulness for decision-making."
   ]
  },
  {
   "cell_type": "code",
   "execution_count": 156,
   "id": "5080a31a",
   "metadata": {},
   "outputs": [],
   "source": [
    "dates_true = set(data['Date'])\n",
    "dates_pred = set(forecast['ds'])\n",
    "\n",
    "#mencari perbedaan tanggal\n",
    "missing_in_pred = dates_true - dates_pred\n",
    "missing_in_true = dates_pred - dates_true"
   ]
  },
  {
   "cell_type": "code",
   "execution_count": 157,
   "id": "9cf41fc7",
   "metadata": {},
   "outputs": [],
   "source": [
    "common_dates = dates_true & dates_pred\n",
    "\n",
    "#filter data\n",
    "data_filtered = result[result['Date'].isin(common_dates)]\n",
    "forecast_filtered = forecast[forecast['ds'].isin(common_dates)]"
   ]
  },
  {
   "cell_type": "code",
   "execution_count": 158,
   "id": "2ae7f047",
   "metadata": {},
   "outputs": [
    {
     "name": "stderr",
     "output_type": "stream",
     "text": [
      "C:\\Users\\DELL\\AppData\\Local\\Temp\\ipykernel_1100\\1596903177.py:1: SettingWithCopyWarning: \n",
      "A value is trying to be set on a copy of a slice from a DataFrame.\n",
      "Try using .loc[row_indexer,col_indexer] = value instead\n",
      "\n",
      "See the caveats in the documentation: https://pandas.pydata.org/pandas-docs/stable/user_guide/indexing.html#returning-a-view-versus-a-copy\n",
      "  data_filtered['Revenue'] = pd.to_numeric(data_filtered['Revenue'], errors='coerce')\n",
      "C:\\Users\\DELL\\AppData\\Local\\Temp\\ipykernel_1100\\1596903177.py:2: SettingWithCopyWarning: \n",
      "A value is trying to be set on a copy of a slice from a DataFrame.\n",
      "Try using .loc[row_indexer,col_indexer] = value instead\n",
      "\n",
      "See the caveats in the documentation: https://pandas.pydata.org/pandas-docs/stable/user_guide/indexing.html#returning-a-view-versus-a-copy\n",
      "  forecast_filtered['yhat'] = pd.to_numeric(forecast_filtered['yhat'], errors='coerce')\n"
     ]
    }
   ],
   "source": [
    "data_filtered['Revenue'] = pd.to_numeric(data_filtered['Revenue'], errors='coerce')\n",
    "forecast_filtered['yhat'] = pd.to_numeric(forecast_filtered['yhat'], errors='coerce')\n",
    "\n",
    "#menghilangkan baris dengan nilai kosong\n",
    "data_filtered = data_filtered.dropna(subset=['Revenue'])\n",
    "forecast_filtered = forecast_filtered.dropna(subset=['yhat'])"
   ]
  },
  {
   "cell_type": "code",
   "execution_count": 159,
   "id": "a23d2183",
   "metadata": {},
   "outputs": [],
   "source": [
    "#gabungkan berdasarkan tanggal\n",
    "merged_data = pd.merge(\n",
    "    data_filtered[['Date', 'Revenue']], \n",
    "    forecast_filtered[['ds', 'yhat']], \n",
    "    left_on='Date', \n",
    "    right_on='ds', \n",
    "    how='inner'\n",
    ")\n",
    "\n",
    "y_true = merged_data['Revenue']\n",
    "y_pred = merged_data['yhat']"
   ]
  },
  {
   "cell_type": "code",
   "execution_count": 160,
   "id": "8b1843e7",
   "metadata": {},
   "outputs": [
    {
     "name": "stdout",
     "output_type": "stream",
     "text": [
      "Mean Absolute Error (MAE): 441128.9480694705\n",
      "Root Mean Squared Error (RMSE): 5874931.0\n"
     ]
    }
   ],
   "source": [
    "from sklearn.metrics import mean_absolute_error, mean_squared_error\n",
    "import numpy as np\n",
    "\n",
    "mae = mean_absolute_error(y_true, y_pred)\n",
    "rmse = np.sqrt(mean_squared_error(y_true, y_pred))\n",
    "\n",
    "print(f\"Mean Absolute Error (MAE): {mae}\")\n",
    "print(f\"Root Mean Squared Error (RMSE): {(rmse).round()}\")"
   ]
  },
  {
   "cell_type": "markdown",
   "id": "6abaf3bb",
   "metadata": {},
   "source": [
    "The RMSE value from the Prophet model is quite high, at 5,874,931, which shows that statistically, this model seems less suitable or accurate for this process. However, even though the RMSE is higher than other models, Prophet has an advantage in modeling more realistic patterns in the data. This makes it better for forecasting data with fluctuating patterns, like revenue in the historical data used. The high RMSE, or in other words, the large error, is likely caused by overfitting on some of the historical data."
   ]
  }
 ],
 "metadata": {
  "kernelspec": {
   "display_name": "Python 3 (ipykernel)",
   "language": "python",
   "name": "python3"
  },
  "language_info": {
   "codemirror_mode": {
    "name": "ipython",
    "version": 3
   },
   "file_extension": ".py",
   "mimetype": "text/x-python",
   "name": "python",
   "nbconvert_exporter": "python",
   "pygments_lexer": "ipython3",
   "version": "3.9.12"
  }
 },
 "nbformat": 4,
 "nbformat_minor": 5
}
